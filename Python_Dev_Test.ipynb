{
  "nbformat": 4,
  "nbformat_minor": 0,
  "metadata": {
    "colab": {
      "provenance": [],
      "authorship_tag": "ABX9TyPAozW9lVfzkj0pmbudvgEq",
      "include_colab_link": true
    },
    "kernelspec": {
      "name": "python3",
      "display_name": "Python 3"
    },
    "language_info": {
      "name": "python"
    }
  },
  "cells": [
    {
      "cell_type": "markdown",
      "metadata": {
        "id": "view-in-github",
        "colab_type": "text"
      },
      "source": [
        "<a href=\"https://colab.research.google.com/github/tusharkhanna575/python_dev_test/blob/main/Python_Dev_Test.ipynb\" target=\"_parent\"><img src=\"https://colab.research.google.com/assets/colab-badge.svg\" alt=\"Open In Colab\"/></a>"
      ]
    },
    {
      "cell_type": "markdown",
      "source": [
        "### **Question 1.** \n",
        "Write a for loop to iterate through the list A = [1, 2, 3, 4, 5, 6]. Square each element of the list in one by one fashion and print them. After the end of the iteration, print - \"The sequence has ended\".\n",
        "\n",
        "Output should look like this: \n",
        "\n",
        "\n",
        "```\n",
        "1\n",
        "4\n",
        "9\n",
        "16\n",
        "25\n",
        "36\n",
        "The sequence has ended\n",
        "```\n",
        "\n"
      ],
      "metadata": {
        "id": "8wiO5Dsj8wB2"
      }
    },
    {
      "cell_type": "code",
      "execution_count": null,
      "metadata": {
        "colab": {
          "base_uri": "https://localhost:8080/"
        },
        "id": "ApHLukC18rjL",
        "outputId": "c691f48a-357c-49dc-d82f-c2ff60ef935f"
      },
      "outputs": [
        {
          "output_type": "stream",
          "name": "stdout",
          "text": [
            "Enter the list elements : [1,2,3,4,5,6]\n",
            "Given list of numbers is : [1, 2, 3, 4, 5, 6]\n",
            "1\n",
            "4\n",
            "9\n",
            "16\n",
            "25\n",
            "36\n",
            "The sequence has ended\n"
          ]
        }
      ],
      "source": [
        "a=eval(input(\"Enter the list elements : \"))\n",
        "print(f\"Given list of numbers is : {a}\")\n",
        "for i in a:\n",
        "    print(i**2)\n",
        "print(\"The sequence has ended\")"
      ]
    },
    {
      "cell_type": "markdown",
      "source": [
        "### **Question 2.**\n",
        "If choice of user = 2, \n",
        "\n",
        "print the pattern - >\n",
        "```\n",
        "* * * * *\n",
        " * * * *\n",
        "  * * *\n",
        "   * *\n",
        "    *                       \n",
        "   _ _\n",
        "  _ _ _\n",
        " _ _ _ _\n",
        "_ _ _ _ _\n",
        "```\n",
        "If choice of user = 1, \n",
        "\n",
        "print the pattern - > \n",
        "```\n",
        "* * * * *\n",
        " * * * *\n",
        "  * * *\n",
        "   * *\n",
        "    *\n",
        "```\n",
        "If choice of the user = any_other_choice_other_than_1_and_2,\n",
        "\n",
        "print the message - >\n",
        "```\n",
        "'Invalid Input'\n",
        "```\n",
        "\n",
        "\n"
      ],
      "metadata": {
        "id": "y7iA9T7A-aUt"
      }
    },
    {
      "cell_type": "code",
      "source": [
        "def down_pattern():\n",
        "    for i in range(5,0,-1):\n",
        "        print(f\"{(5-i)*' '}{i*'* '}\")\n",
        "\n",
        "def up_pattern():\n",
        "    for i in range(2,6,1):\n",
        "        print(f\"{(5-i)*' '}{i*'_ '}\")\n",
        "\n",
        "choice_num=int(input(\"Enter your choice : \"))\n",
        "if(choice_num==1):\n",
        "    down_pattern()\n",
        "elif(choice_num==2):\n",
        "    down_pattern()\n",
        "    up_pattern()\n",
        "else:\n",
        "    print(\"Invalid Input\")"
      ],
      "metadata": {
        "colab": {
          "base_uri": "https://localhost:8080/"
        },
        "id": "pX6ZQ6f3_5xq",
        "outputId": "cad59323-7c43-4eda-b3d7-6da57d44a354"
      },
      "execution_count": null,
      "outputs": [
        {
          "output_type": "stream",
          "name": "stdout",
          "text": [
            "Enter your choice : 0\n",
            "Invalid Input\n"
          ]
        }
      ]
    },
    {
      "cell_type": "markdown",
      "source": [],
      "metadata": {
        "id": "Vk4GRzdvBt8i"
      }
    },
    {
      "cell_type": "markdown",
      "source": [
        "### **Question 3.**\n",
        "\n",
        "Create a tuple t_1 = (1, 4, 9, 16, 25, 36). Square each element of the tuple using tuple comprehension and store the result in a variable known as t_modified. Find element at index position 4 of the tuple t_modified. Now slice the modified tuple in such a way that the sliced  tuple includes only elements from index position 1 to 3 and store this sliced tuple in a variable known as t_sliced. \n",
        "\n",
        "Final output should be:\n",
        "\n",
        "```\n",
        "t_1: (1, 4, 9, 16, 25, 36)\n",
        "t_modified: (1, 16, 81, 256, 625, 1296)\n",
        "Element at index postiion 4 of t_modified: 625\n",
        "t_sliced: (16, 81, 256)\n",
        "```"
      ],
      "metadata": {
        "id": "SlxvrMvgBwCv"
      }
    },
    {
      "cell_type": "code",
      "source": [
        "t_1=(1,4,9,16,25,36)\n",
        "t_modified=tuple(x**2 for x in t_1)\n",
        "t_sliced=t_modified[1:4]\n",
        "print(f\"t_1 : {t_1}\")\n",
        "print(f\"t_modified : {t_modified}\")\n",
        "print(f\"Element at index postiion 4 of t_modified : {t_modified[4]}\")\n",
        "print(f\"t_sliced : {t_sliced}\")"
      ],
      "metadata": {
        "colab": {
          "base_uri": "https://localhost:8080/"
        },
        "id": "2ifhBa8rCGEk",
        "outputId": "21a08944-b379-4f51-9a3e-f7c182e2293b"
      },
      "execution_count": null,
      "outputs": [
        {
          "output_type": "stream",
          "name": "stdout",
          "text": [
            "t_1 : (1, 4, 9, 16, 25, 36)\n",
            "t_modified : (1, 16, 81, 256, 625, 1296)\n",
            "Element at index postiion 4 of t_modified : 625\n",
            "t_sliced : (16, 81, 256)\n"
          ]
        }
      ]
    },
    {
      "cell_type": "markdown",
      "source": [],
      "metadata": {
        "id": "x_bxQ5alEei4"
      }
    },
    {
      "cell_type": "markdown",
      "source": [
        "### **Question 4.**\n",
        "Show by raising a error how tuple are immutable and also define what exactly immutability is in your own words."
      ],
      "metadata": {
        "id": "D2pP24xEEgV0"
      }
    },
    {
      "cell_type": "markdown",
      "source": [
        "**Immutability :**\n",
        "\n",
        "> In simple words, the word immutability means, the position or state of being opposed to change.\n",
        "\n",
        ">In python, immutability is the property of certain data objects through their objects once initialized thier value cannot be updated by any further operations but can only be reintailized by another objects.\n",
        "The data types in python which are immutable are given as follows:\n",
        ">1.   int\n",
        "2.   strings\n",
        "3.   tuples\n",
        "\n",
        "The tuples are immutable in python is shown by the code given below \n",
        "\n",
        "\n",
        "```\n",
        "name_tuple=(\"Rohan\",\"Sumit\",\"Ram\",\"Aman\")\n",
        "print(name_tuple)\n",
        "name_tuple[1]=\"Pratham\"\n",
        "print(name_tuple)\n",
        "```\n",
        "### **Output**\n",
        "![error.png](data:image/png;base64,iVBORw0KGgoAAAANSUhEUgAAA+QAAAFaCAIAAAAYYABqAAAAAXNSR0IArs4c6QAAAARnQU1BAACxjwv8YQUAAAAJcEhZcwAAFiUAABYlAUlSJPAAAGttSURBVHhe7d3tcxPXni/6+6/cc+bOnDNz5p4zZ++7ryDeAWUDwmxgW4ZgEjkEE3AyGsdOHNsBEyNi5B0cQOOxPWB2UgLi2JqAnIAyLmEwZXnKqDyFilLF5UrxYpfrVoVX4UWqqNpVvOKu9VurH9Wtbj3YblvfT3VRlrTUD6uX0LeXVnf/Hz4AAAAAAPAkhHUAAAAAAI9CWAcAAAAA8CiEdQAAAAAAj0JYBwAAAADwKIR1AAAAAACPQlgHAAAAAPAohHUAAAAAAI9CWAcAAAAA8CiEdQAAAAAAj0JYBwAAAADwKIR1AAAAAACPchvW/V3j2YVkJCQfwqZyIJZ+vLy8lB3v8stnAFaDv3t8IZs8i/9HAAAA3HIV1v1d8Ux+eflxOmb5JTuUXuZmR1Yn6XVM5paXc4lO+XD1xeT2DK9ycl3leiuBXJPl3GSHfKYca1Rv1B6WlxcT3fKJ9bNWe9BDm+ysI7HIVzb3b1YrGxpM8U3JJnBYCAAA4I6LsO6PJNn3a94mqTMysqRj8rFKfm1rHmdnb0RbSvyaXq+wnh6Sj1eLbb1xgfaR1Hwuv0RFlvLZe4lYe0C+VnVOPeu9NzK5fNZpF6xRvanJteDAojrtrQRF92AV2W+y5D+fYkfTTO5mr3xq3Shh3e7ALxRLs3Ut8v8JAAAA6DiGdX+Ux4B8esj+q7UrQVHCRVgn+bulfU2veVjvFqudviQfrxbbevN1fMF/ySiw6qHQTuwuW7rjLlijevMPz/LFZMfD8glVddpbCez3YHXZb7LgH2Qf0sfp9Dw7PklG5JPrxT9yr+jKshID9H/K3VhQPgEAAAC2nML6u+NZ9sU7N1Ys7nRSZLHt6VSijD/YPZqmcFNa8l7zsC5We/WXaFdvftFFnUuPdh+qF88Ew31j6WzK22F9repN9GfftTjGqUp7K4Fty682200m1GDyU5HWG+zDmk/2yafXC7WW4j+wBGN3WVzPJfswGAYAAMCBQ1inbvVc8pR8aM1lWOdkr5vxi9zf0j8+m1W6kvO52UnD0AUlrAc6RtNZOSwkO3u12/A972/pvZrKLGozydwe6RBJl9BM0jF/S3RyNidnkpu90Ws1smS9w7qbCEjpzViNtNrKu3hgWkx0d8Uzj1nB5ex4tz8Uk9F1Kqr2aMrxFZJ5k42vGtnubs+Edc6ivfmP9o7dzuTUlrKYSY12qM3AZb1J3gjrfv5qPjUg14eldvkCw1/KJbq643O0wQu0PdO0PYvJ6AFZyvHjI+cjPoOi1FI+e3vQcoiRi7Du853iY+uWH4ygcx0AAKC44mGdsnr5P6wXhqfg2Bx9kWsjJfzdk7zv3iybUMM4RcZ8dkFJEhJLJ1pSsI6Vuh8ExExyakaT8ukh76UF2bOen72qhUgzSm8OYT2fyfD6J/nM7Lz8c3k5E3+HCpnrrcKwvu7ctDdRxixzRbYUl/XmJX5a59Qg/zTQ1uk/sJTjM/PqfsxnHmTkn2x7rrWIUo4fH9HecjlzsQrOSFZ2llXcBwAAAFXRsN5GY2CmrfvzXDCEJ39DODpJQ7Hzqaj6DS36JpezyYFwkD8ZONQzNkuJOvOFOUnkH4x1N/h9/mDvTXpGt2Id45ns7bFI2yFKt/5gl5iJRSrN37OdiXeEhvg5eFwuk7oaadX3cQpuwjqXGTsaEL3L/ACoKxCZ4jMuHFZO9WPbKU5zW/0u80q5aG+spcxlWZWGD8uW0n2VWsp8XLS2Uutt/YlDu7sy9FKrpl52gdoJk7naEhAD39n2THYHzib59iiN3/Hjo85neSEZPcFKBVqvUJEiI9OdUJWu/6AdAAAAjysa1i9Rd1qlnWdGxkuOiAyk9msK/j76iXxuTHR6i5ydn9adJvhOnHcP2g3hJaZ8KWaSSw2WNJN15D8aHb+n/eaQnR7r1VeSu7Au9p3c9qkIq3fxd+EQhU0U1o2cLx5PYbfcelt3wVEewdNDyjb28RTODk/kQxGyxdaJA+Nckm+P+Nu+8Zv3OM0nPx/XDT6jn90q+IGl5Rr//HmwSgEAADylaFinb+hqhvVcKnpYviZQJigcXWDIT1Y5UvYmykeMPzw4OZulccY6prDuNBMPqm+NXE3J7dJf7c5VWJfbq992u9BpVT+ajRrWC9obw1pK4l5WXhNTVW69rbfgyAO2XrMj6uhzXyTJWoua1vUfYQro+r+1xu/08XFsb+WwmCcAAACYrUFYp2EJ6ngD3WB0RoT1MS1qCKWG9Q4ar1NIe5eLmXiYv2WEXz2Dr62sPIR1C87tzddp01I2aFg/MCKHtpgpI2FchXXnj89qhPXgFfSsAwAAOCsa1sU3epXGrLNvZ7pemyH900/py7OjhrM85TAYJZha5Uhjzqaf/pfzs2M9YtAtZ8qXzjPxOHFJbzUbUXjSDxgOnU3yxIWwXrS9iWFX/OQHMWadMxwZbqywLsbAWJJ9627CuouPz2qEddoXuUSXfAgAAACWiob1ql8N5l0aJq771V7eeXFJO8G0dSAhzwo8L3tErXKkMWfT2PrlxWRvA83icHdMXp9Re5fzTEoQik3zVczph9FX0aUkne0XogphAofaIvEHolKUsch0Wxl+9b2j/GRZ5YLiqxXWxTGVPMG3fKtcby7aW2yaP87d7FXOZo4l7lHNrVJYD4lbw+aK3VOsfGIMTMEoMrpFEmsr/PowbsK6i4/PKoT11vEFPktcDQYAAKC44mFd+dpXcnOJCsKTzx+Z4iFBnLRHQqL700R/OqlVjjTm7AN0A3ML2rucZ1ICkV0Z3WU3qoiCkQX9mHVxY1m9pWxWF57chU6qASumVCpuOWlQTkpb5Xpz0d6CQzYtZZXCulpv2mFW9RwY44ciynVsdOhijuJj6yasu/j4VD+s093W5AUnAQAAwF7xsK58qRe/g6mtwvCkJoNM/F35BMvrkRu6k9tyhpvUMG5yduDUmHZbJX65w97eGyzJaO9yMxP3QsM0Hnp5OXujVT5VRfwONUm2OepJkPnH2dnJmOEmNaxUF9tkWSD3IBE9ShFtdcI6W1p4WHfTHKaslLa69eaqvQV6r+paynxq7HTv+PyqhXVfaOSe3OJxrcFXhxjzbVmTdJskisJuwrqLj0+1w7pyB9Pid1sDAAAA57Auu3Dzs8OrM3Jhg/LLE/u8eOFtL6u9evPLq5sbDyFqm/ihJj8dw+1LAQAAHDmGdbVvMptwuF51rQgc7h4RN2zP6++2Aw5qr94Ch3pGxMkEaCmaEP1/kk/HzNeAAgAAAAsuwrrP5+9K8AEX+jHTtYqGSQi51Hn82uBW7dWbboiR4V5ctS0UoYsW4cgfAADALVdhnfF3jWcXEr2F972vMTx0LuWz98b5ZVjAtdqrNwrrj7OzN6ItaCkqf3diIZs4pT8nBQAAAIpxG9YBAAAAAGCNIawDAAAAAHgUwjoAAAAAgEchrAMAAAAAeBTCOgAAAACARyGsAwAAAAB4FMI6AAAAAIBHIawDAAAAAHgUwjoAAAAAgEchrAMAAAAAeBTCOgAAAACARyGsAwAAAAB4FMI6AAAAAIBHIawDAAAAAHgUwjoAAAAAgEcVCeuBRx+cf9lrmFb2ydekfR+ZCrz8oHVYvia4mImvacVY4GVv36PX5GvC8Bt9xgLnXx5vkq9J3pnJWtUbKp9NqPy1momH6g2VzyZUPiqfTah8VD6f1qvyYe0grOtVZSb4v4NNqPzNVvkeqjdUPptQ+ah8NqHyUfl8Wq/Kh7WDYTAAAAAAAB6FsA4AAAAA4FEI6wAAAAAAHoWwDgAAAADgUQjrAAAAAAAehbAOAAAAAOBRCOsAAAAAAB6FsA4AAAAA4FEI6wAAAAAAHoWwDgAAAADgUQjrAAAAAAAehbAOAAAAAOBRCOsAAAAAAB6FsA4AAAAA4FEI6wAAAAAAHoWwDgAAAADgUQjrAAAAboRi09nZK2G/fAiwefm7xxeyybMh+RDWFcI6AACsmVh6eXn5bkw+Wj1DfDm5yQ75sApCg6kcm2d2vBthvcZ0JBbZnlcsJqxaFTVsVZktvCozqRKlvSe60N7Xn3VYTx0//7LXbup79JostkZea31uXgc+PX8jIF4HAKhZsbvii91SLtEpi3nGRg3roSsZNsPs5Hom9ZZLqezj5fSQfFgLvLHJmzGsvxNLZfPL00UXEYql88vL+XQM3evrDWEdAGADQ1i3Vt2w/m6conpifTvVOyZ5V2dNhXWPbTKlduuwrqpKC1/9j0lngtes0yL8Ayke1+/GgvIJWB/Ow2AouK95QNcTYf14k3gEAACWKLh7MKDrbcSw7h/kiSWX7Fvn8QAI6+ut5sK6zxeM3fVE469x5Yb1bS3PWIDu/Mcx+Vhq/H077/ZuOdjIHwUefXD+ZbjlTN0fHh4//eIk9Yh3fvxo93Yqqznif/NJ+OzLU1Sg6/RKQ+CIfIW4COu0kh+lfL4z9a1PO//I53Py7NM3/qB9Z9FMeGf81sBMi7IyHR/OGNflTH3LShu9na8Jm0PjmS3yJc7dTAAA1oV9WFe++/0t0cnZ3BJ7wArOJgxnjwU6LiVms+yLmSzls/fGo0cLvqHrO0ZuZ3JKqdyDhKmM/2h0/F42LxaxlJudjLYYXpdrwoolHvC0wOSz6RHjSZuB9lhCnQkvMDveb5wNF+gYTWUW1VWZTejLmMO6v3syS8VSg6X+pv8Odas/GCnsXOQVvpjo7opnHvN58+HsoViaNis3FdXKs2q/oVVtftG4qsQfHtQ2mVX+9Fivup60LTbSJQU6aiHsLf6W/sSsqH6+jyKGKjGubeEuJkUrn3GYCW8GbO8E2kfSSqF8NjWolqneJnMOjdZdy+c8ENb9Lb1XdTWfz2Vuj3TUyxcl1pgmde0tmx47pe5hmrMN64OiU0neUqzaP6yZsnvWfzvTyp4/t2QcikKFzy7tEI8orH/U97yLQq06nTr9cJsowLXtaXsuYrpuenHsYJt8vYSw/qjptGk+zw7ulCVEzj7SumJama72CSWOD7/RZ3hJTO2tw2pedzETAID14hDW7yXGF/hXsk4m/q4sYR2PcsmIPrSIMawm+kjRGc8UFsiO68INrcliNqsEcSmfimoLsswTpr69EHX4mehinCGsK0k9mzTGUldarvGsnrlikVV4heczGXVAcz4zOy//5HX7DhXydydo4SaG4e9imI2RdqRR5bA+mxg3r1DmWqss4euIz1vtQkOjcqp855nQLs7l5OGaSs3BVQzrjo3WTcuX1j+si58azObGdO26Na41QoW2zpYfLsnmFwwxZD8ds6gQWCPlD4MxdqKTV5qfstgdbhmQjymsszKnzq401Hdu9fm2/m7m+Dn2zIu39skiWxqfsOB7qu/Jvvo2yrttv2t60s7epSZ+JawXTCvKPBhaST69eK/11ja2JN+ZP3z0gj0TbjkjSqgzOdnHVoYva+u+R3xBf3yyR1fgVN/Snp20Jls7d7z9lEL5swO/oxIuZgIAsH4cwjqXz0xGW+t5/9wI5a3MtRZZZCidu5eI9YSC9JUcOBFN8kSXTyn/oashID+fjHVRqfpD3ZeSmSk1UogC+dlrEb4IPpNI/AFfyuyomnSVNclnEgNhNhd/Q6/Isro0HEsvziYudYcaaFXqW6NTYlWi9CrXSgGazSR5qZtWJXCoJ5acS2rpRgvr/m6RTRfKvIxLbJq9OTuudSBpqMKZzNjRwMg98Xc20RWITPGtTl/iZWS6yiajfHOp0q7OUnpU0rzPF6Y1zFwTJVidhCNX07M3zJmw8jEhygov5+cS0RMB3g6GKcrOx0U7EBWbfxCP8Fd55Ueu0drqOlYdK9/FTJRmsJRNDrSyQoETY1TCXM8Vb7Jjo3XT8lUeCOvjmeztsUjbIapZf7BL1JvWlnxt1Jjm4mHx8fEHw31j6Xv6A2bidhgMR+05n+yTD2HtVTJmfd9S5/mXPe23lE7ltuDHPLb+Xj5kbZ6H9Z7TD5Wsy7FAz8Ju+/GL4uEenvifva70fwuBf2Q5+3mToVOcR2TjVBDW//isaZ9u/MzBFXbk8EHrsHgkZtLZfutV8Zi72MS70sV8rr3FjyKeBg0jWhppTV6+2yz/93CaCQDAOnII6/nM+Cn6ihcuqXHWmjkniW/3RfuTLGm4SD41aHj9wBgPbtpFJ2hNTGNR+pI8bxS5MIU5WIiuvlyxi8rJsN7dfY339efn4+WeGyqCtHVvrsi+og5FdeWmeIesruoiST5CJqPv+WQBKjLFC6jHJ8HRWfYwP2854ERTpbDO2kGvrh3QHpEBtIVHW/MuDI7N8cUqNeBY+W5mIhtkXDeTKJ0YYGq9lW6yY6O1Yr/Q9Q/rhcyf+gMj1JgyhUOtDEoJ6+LHpUoaHlSoohNMB17nw06eNvyWHu182GYaxU5hXY3LUv2jD7UnRdK1no4dpCJKRHYeBmO9kpLTTGgOpx/qUjhpWmHvMiV+nOoKAJ7kENYdQkbIMBZWoX1DU/zNjoflw0KU/q1pb7NKIX6KF7onQ6fGUvM5dcy6pBWgmRRbFbm2+UUaqJwd7yglqxkpYwDkQwN9hVPC0/8tqo5WVem31mgd/0IoNq3UfC6Tnox1i25RoyqFdcsWItDaWlP7vB0r3/VMjM1AX4GqSjfZsdFyTi1f44GwLsaj0zkSOoZ6Cw0pA3+WcpnphPxJwaSUsC6qsZKGBxWqKKzLcS+t1PFMp5wa+8gtw/q+pY+0J62HiYtpHcL6x3OvyIcKhHUA2DAqCOtBLSwaad/Q9IWtDZspRAWsFQ/rovddeTJ4yWKMMae9i2ZSmID1RBr+txEapp+v4Laj1Qjrc2PqGBJJrJ4W1rlAezR+UzsvsPDuSx4K68Uq3/VMjM1g9cJ6sUbrpuVr1j2sdxScbiAU7NP6jui1pNaYCseAlRLWg3STgUoaHlSosrDu891q+aPokB5rPvvy1MczhrBrFdZ3GAeW7PuI5fKnQdE3b2NNwvrEUX4RGOVXAkkOgzneJMflI6wDgIeVH9ZFXF7OJmkcuWDOSWKwiuFUNiP6+s9PReRDaxYpRA4CkW8U4yWWs1NROeiWMQcLy7ElRmoalud35tNDRUoXQ7VqHkstuAjrNLhjeXbkAH9eIYfBpIesjyAC7QUDkUmlybVYCxEojD5OFt2FjpXvZiZrFdYdG62blq9Z77AuNic/O9YjxqxzDvu0vmOMzhsxH7GUEtZpzHou0SUfwtqrNKyL8P38jealTn7aqHayKUdh/aO2W69up6HkWwcCLXTK5h9X9imZWPTNnzz9ZF/9SXOvtmJNwro8X/bkafUE04E9rc9obbVR+AjrAOBh5Yd1cVIaCwF0RiCd4MjvHMlokcUvcudybnosIoKNPxgeSOjO1eula7zxE0zDh3WDog1oTebi4bfUOSTpyjDqaosx4vnZK/y8Q3F6XGqBFqwFC3VV0mN96qpEE9YnmPIxJtRXX2Zed7gajLLm+qypS3viGu3LywvqCaat0Um6ZI5uVHcslZ2djHWLOmHvaQiP3WNFzLtSrAk/V1WcuFk6p7Du671Ju/BeXDmFsZBz5buYiduwXukmOzZaNy1fs95hXYw0W0z20nFs4HB3TF6JVVdvl1JZ3fmyfHuv8EM/08848oKk/CiFPmjFtNLPU7gazHqqOKyLoeoswlqUobDOXzJML4436T+Mw4fM11ukSTc3EZELJv0dTCsP6z7f9hRdqcY0vTimW1uEdQDwsPLDukghVvSRRRsLq6eLFHYjWHQzoTUpoL+OoUi6FvTZheVv87BdRjdYxTjOxB8WfdVl5fV3Kc8tjKtXN1S5COvqoYKJYU1oPgUMl7wkFld4tB6fY8cxrPsOWFZsiZXvPBO3Yb3yTXZqtC5aPrUlK9qa2DZah2Rv4DwTVrGWHzB9vVmvrenim4zFFR6tjk9k+zefMAxrq/Kw7mtr+Jjn2jb1io0qc1h/8cGpJ6YbHhG6FdE5eVMkOa19WGe2T7z+0fMu5aZInQVri7AOAB5WQVj3+Y8OJueVrJDnHb0dF3inpOn7O9A+op36aXX7GEMBhW4mrREaSlvshkf+lsGbGXnnJr6IRKyduqeN2c50pxvzfIxhnfF3iUtE5lLnS83rtjdxdBXWmVBEu1EUKzSfGmk39Gb6j/aO6bZl+XF29obpZlJS6Oy4NhCZq3ZYZ4wVK5VU+YzDTFyH9Yo3mSneaJ1bvnfCOtuWU2NabeQyqau9vTfY4Yyu3kx3TSpyjydjs2SswrrS+E/Jx7AunMO6IzpJVDeyRWN5gikAAMCGIvp3S7wCIMBG5x/gxy356ZjFIDBYQxWF9cZXdt5qpkEs7cetEjnCOgAAbAbiMhz5u7Fyhr0DbERiBFc+HTOcHg3roNywTldxkVPXR6k6+bQRwjoAAGwO8h77+uH1AJtWKEJ3cs0Wu/UYrJXKwvrJPz4/3jJhvpGQCmEdAAA2jVBsOpseLnpjSIDNwd+dWMgm9Pc8hvVThTHrAAAAAACwGhDWAQAAAAA8CmEdAAAAAMCjENYBAAAAADwKYR0AAAAAwKMQ1gEAAAAAPAphHQAAAADAo6oQ1rd0/Hh0+i/vTCxss741Um2K7Z34y/HpX17/qEM+AVATOsYX+H0e00O4zyMAAEAVVCGs77rKUimbft73pnxmzSUPsRW4mpSPvODNhbd4nXhsrdbJts9+XtfmURw1nm8WtsmH1VZ3PvAvP731nfiM8OnQR/KVzakzkWNZnbkbk89sGs3fXLz/49X4P8uHrvxzhL1FnUp7LwAAALdheta3n2OJ5yebwOe9sO6VnvXRvV/9fIztGvmwVFSx1lMJ4XujhfVgXXju0MQv7ygbe3Tix73vqfsxtu8btRLMU0EQ7wjEHctsMpu3Zx1hHQAA1oPrsF53vj7+86H1i57Uf28X+DwY1j2iwm7jWgzrdWd+UmO6bvrlQFuQXi8lrIsfWG79sOtgWD7jTXuuN1z/8963m+XDDcUfnhq89c2+NRiDV05YV1FqLzess238bOLrxu3yIQAA1BR3YZ19lyd4Fmm++Kct8qm1hrBelgrDupVdyUN3SpvnhgrrsT/wLP5zQ1v/FpH/dvTviLH1/8uxkev02BIl+Ds/7tolH0sf/cjeGDp7Wj70rCMLzd/zrT7w/sY6xcK/O/JghIXg6QfHD8inVtG6hXX/vsFF3jF/+9/f3COfAgCA2uEirB+caeIjbn85fNY0CNXYxWiR3qjA+Fzdnut7r/58jKeBv7xz68/7tBEF/WKsSEOLfCzVTR5gcfDODzvrRM7TLUU/aUtUwvq+6/vicvTC0a9yO01fbNv46OEjbM6iwMSPgcP6rkQ+k7c+i205/P0BZQjEsYkfdu4T/amuUT5TJ4sxD7wAS67Nr378Y7MYyvz9L83/MlmndQ061ptcinHm9C5ZJ8ZdY5zYNlL58gT9sV/YTA59VEJXsRLWdZt85+emz65vla+rWIEfQt/IyuebHDbE3C2Hk/uu/nxUtwf3Ggtw+7RKE0vRVaxgWMrxO3/hf2ht6U8N3/7l+Lc/+PXveu+Ho2xxsT/JhwW2fvJnNiuLirXYTQassQW/+llu73c/H/j4vMXBMG2R3GrWVP71+1eNnzTHmbiqt4Mzh9iGW3zMXRtKi8HqQnpIPq3hBXKJzkDHaDqbp0JL+eztwRa/fL1EoYPDFhH2rfiPV7/9Zt/b1z77no88GRzs9u355z76++LowKuyFOPf2fZ15NYPfA5smn4cvTDA/sMxqDvW9NmDwWllEEua/tUCt0X+3nPh8dX7jz+w+ImiWFh/5c3RjxOPL4ulTC/29X7winxFpR6W/Ef47TLrCwAANiiHsL71vZx9l5u7sP7tzzKfadNPv2+UJbb08pRjjkEUcY5cHGV/lhDWv/mJVlU3sbwrC7Bv0eQh82qw6RfdwB6aya2fjxgKWG5XUa7C+l+O3DJvly7qOdfbuoX1PTNNbCYTuop1gXbiL80TPOXrp9DZflmC69h11Vzg+PSPuq5q2kHm6ZeGd3RHU2/OHC7cywn9HuzYdaVwKYa9vG2Ads23f274MLZlW3jbxz/wHfHdj7vsOjXr/tRwSx5bCsop11aTbkFb2n4wNzZ2fHglaYjaRxaaC8ro96CLmbioN0H5Ae3IyGTBcZQLrsL6ci4nT0BV5SZL786v+6fj13nOHklcMw2A4WE9/R+D36oJ+z+i3yh/3/+PcIMo5d93gYK+aUrqhtPUdb9/q6AAm6od1l9t//chdebKNPLlP+uOKyR/eIp37d9/3PsBrrQDAFBDioT1YF0PP3P0+Hc//f5I8d5lfUzUUyPjz69/PLqVvbytP0CBTEvnuk50RZjOydMFU+I8DIYWxEcvsATT+D0fqsHKHxYFwiI/HYvPbN9NX6TK2Ibj3/2g9FMpM/n+J5uZlMiuV1VJ8+9M5HY0spVpruv98zH2TGJB+Xp2UW8OYV1FG2Wxa8oT3DHCV+PA+6X92qAecR258j3Vf3Pdxz/yTf42p3YS1p39iZf57icekXljaN76drLhem6neJlLHvjmx30fjm7dQUvfVjg6pf/342wpvzR9+qc62uAtjX/aG+cr3NSr/A7w/g+03D/Xv91BcTa45fd0+GGooubt5/7MW74yHb2+sMP+Bxax5s3ntAMPV2G97voBflzxc1Bub3BLczLIs7LuhyZZhtXbjJ83Fd5u/Wd+PHROCetuZuJcbzr81BReY+yT8qr2kSwRhXK7sM4tJKMnAj5foPXKLO9hz46XNqJ/++kPKEYPXfm8sJOZh3WeaP/j3f2Bluvi78UP3g4cHOXhvq+TCokBLfcXu9r/iTYz4G/5U5R60D/79BiV8O3+jNL8ramm18X/RAGWlXmqrm5Yrxvo5ctd7O3qpjXxv3rkn3uT7JnHXe+IEkavi/X8IRr5J/kMAABsdnZhvXn7Z3Sa3S0340CKhvU7P+3VZ/1dlI20YOrbftGY/6jAsX+dlA8VzmH9+5/26Ra0Y0RXXiz0Vs4wtsHXUX+dYo38UqSZGI9MDDMhFj39dmPli4b1Y1/N6S6ec50fsWgV6KLeqhbWlUMUbbKrZJ+vcY738up/r5AcZiIqLaRGTC5Mla8eCNHKT//8B4fDQiNx+qZa/3+YCxW2HFFvV0SZILUi07CrwioK1oUXDvMxIcr0rf3Jl+Jo87sfdhRUCmfXBpg2ftigj/jcOzl2kNA8cF4+FE3li+9t+7ndzKSQqd7MOnaOUCNP5PzljZAuGtbz8/FuLWJHUyytLyZK6FrfP0pjWn747LPTBWNFOBHWL174gP1N0fnHoeGz6t+RHl6mcZgH92jE2D99grL4xJ/oI/bBB7xv/sFxdkyhMo9Zr0ZYb//3y/d/HPysVT4UTkyNsE0YtInjez7vvU3bOHwWA2IAAGqBU1j/9sdAhWHd/DydwKd/UkTA+Pfih/u6cz8VxCnOOawbwwcFRKU8pZPCrkQRIpUs5TQTUq2wXjRnu6i3dQjr4tcJ9aIoeg4zKaxGZtvn+idpDrpDOEtb354JfqWMR1cntf47eJ1YT3LOVEXTP+p66xlzFW39iHr9v+eDv7c2Tu67zg8m+apaHUiI9mAcz6NjH9ZfFYNtLCd5aCFn/rp9knUzE8ah3sw6/OJHp9UJ68bnOxKL5YX1HwcvFAnrMi7ro7M+rFMZdUiMivL0t9/QRtPfya930wvSKoT13eLMUcvpy4JkL+w528W73hHWAQBqhathME7XdLOMiYzl83QCn+FJMe7lzwE+PJlOObUaEl15WC88QVCEoZLCegmqHNaN9Va1sO6a6I616FZ3ZlmNdKKqMawXnfmWDsrQhZO6y6hOrCd9WL/zww4qrjBW0a7veU+8oY+/eftFCq+FqycujGPXrc7Yh3XR9qwnY1g/0CYeWXAzE+d601v9YTCVhnVGNwzGfEpoKWHd0GvOFYT1b64ZjutWIayLtbKeLMM6hsEAANSeSk4wVVnGRMbq+ZYcPx/u+ozuBDg5kphf4Y5e1UYY61QU1mmAxPFbOeN1isUwGGNe9GxYN9UbzUQ/1IHvKVbAvBeqFdbVIUOlDFNRWFXjKD8pc/rP9fIEUjoUYQ9tu3LFsJm/NMcmXxVjrxnTcA6bQzKd0zSoXV0oJ/vR1SqyPCYR7Uc7vUGQF8Zp+sT+o2Ef1sVLTZ8UG629hS4yc6TIFjnPxEW9qfZcb+BXZyr3BFPVaod1pvgJpk5hvekKDYPpM54WI4bByDw90Jv+8er3U7oSyjmpprCu732Xfd4lhHVfzwxfk4hxTWzwK8rP8PnjBFMAgJriENY520s3qoqG9W9/2PkHcTJfc13rHF0ejsUXU7yg6PbNQuDiLwUjyyUaPs47/LapmUPjmLPFNSL/cvQL9QTTWOAK9UpqvfgeC+vF640GKx//5gd+4mNdeNvHP8pLgpj3Ao2Gn/6l6Yw4AbFc78hDhfIyHFXjL8GO0/xkWZZBd4/Wf0Hdt1fVi5bIU1eP3/qxvlVc4Dy45eDkPu0E0/P76EIlh3r5ub9sk19tnQmO01u0XSYOAH459OmfXhV7uYA4QYJ3G7M12da/47OfZK+zWm+H6eord376g/46659TMVOCFxfGsWmuUpGwLrrwv/8pqJ76WaiRDhLYR+9iUrbbbR3bP9adYOo8Ezf1RvZ9/zpvYxVculG1BmGds790o1NY933AR4pfndFOMN3Z/s1n1GPd+4E4Ims8Ps4e/nhxmK7nuLO75UulC1wL3BTo7z/+uO0YnRg62kdDyUsL64HRKK3Jx13d/p1FRrX4d56awaUbAQBqk4uwzljeFImCiNWkXm6PQqf5VR7RCjMfDVXnr9peWFDEU/2kBVMXOdvqEnjGc1KrEtatN5lN2na5DOsFczDUm3KdEG36/qdmw0wEJQTrptIv3SivslJetzpD1WhYBz6ZLoa4J0lh0TRpl260ngmbdLtsSwcN3CqYtNqW8Veb3pn48ZCh3iyvIMkm05h1WbHFutWZImGdbdE5y1ul6ttbcNuARRn9HnSciZt6q8ZNkSh2W9GuzFjlsM5Y3BTJVVj3hd6K88510zTy5T9rQbj93/mcDa/OfMb+0AK3X/TQ66fBW9oSGbFQi0kOtuH2iMvOmCd94sdNkQAAapq7sM7wwaw/665KXk5YP/bNT0HL274wcqzwT3ttfxAOvtqju5cNm0oK68xBfu8YeZrd9780X50zXo/Pu2Hdut6OzByiIyg2HYnzawvykULmsM53XOBffnpLl+xLDuvicofldqszW5qT+/5VW4d3vvs59C/mO/twdNcqtdgx07176k7vvKjc04rvvoVdh+lKLMZdJu4QZDqZUl/bW96ea+Id8H9RbplkqnymY/sZ/V2TxLKMnaXirOji3epM0bDOmnRdeO6QcgcuZTK1N2OZO4VV5zQTN/XGjsav21/xxpV1CescHxxyS7s+uruwzoQO6m54dPn2f3xsvhWRf2fnv8sC8kZFBb3jdd3H44viZkaXbz/4oO0YDWspLazzBdHtmeRNkeSkD+t8Gz+b+LrROIwPAABqhOuwXo7CGGTvCB9HqxsXUctKqTcAAAAA2Lw8ENbrwq+2ydNYS+nD3sQQ1gEAAACAswjr+3uu6H5PL3OiORlCp1UBGnkiJ+3O/2qZGpyoAorVGyZMazm9nfj/qBkCAADA+vBEWDeNTtYXq7WJKgBhHZNXJoR1AACA9bWqw2AAAAAAAKB8COsAAAAAAB6FsA4AAAAA4FEI6wAAAAAAHoWwDgAAAADgUQjrAAAAAAAehbAOAAAAAOBRCOuwQXUeHH3e3ntRPoKNo+79lTN3XvZ/9Wh3nXwGwKw+1fb10zcPNMqHAAA1DGEdKtUxmVvW5BKd8vnV1Nk49Lz/zsuec8PyCSnVzlLgnZedvW0+3/CxCf53/+WUfLFaPlxhs23/UD5aVQcv0yZ8Ocdi7a4o3+T+OysH5YtuVWUmVSTX587zY2/IZ0oiN+Hm0l72gPZFObN649FJ/sYXrcfYA9lsTkZNzWlNVGdN1qTlV4ubTW5+2JV82Z9cOVgvnwAAqFk1FtZ37vEPnWyc+bzpfpdfPrW59Y7P5/ILiQ75cFWsfVjf1vvUJtCk2uiLXyRpEQpPf6YrJrOdMn334nT8yeGmI/JVl9YwrDeO0nqK1CVWfuLRbnrJPRczaXztvYftX704+x2VnHreFZvbu2+1OjWdetbHjsSfn/3q0S750GzHOQrrE1RAxr6nh0vtpG8SbxQpX6bb9i5tk5WjGmWaetFz+WHDatSJ05q449TypcbGYdocFpSPyqfWgctNbqZiX+MXGACodTUT1vfv/93VyKH7LKaLqUbCeizN8vPi6oZ1FaX21Q/rwYc9tl/hyhe/LrIYMr0prMvp+bHmUrLRGoZ1GRmNOdsuxdpxmklbQ8wYTMVU+oKqhLpaiyxdvwkyrJfxQ4Ho0DXmRd0+NYd1Ma1KR6/Dmrjj1PKFulvhqZdnLq+wT9CZC9fkk+vA7Sbv6HtmvSEAALWkVsL6q1fP84w+E6nvPbEXYX11rElYF12DL1qPWcZr8cUvQoBv74UX/Jv+nG5cO+U89bt/a/DWsTgvU9qAgTUP63KFjy3xDumvH+2gl9xzmInIu8lnx8IDdeL4Z1vn7o6lzi8eejqsi122c66T/X1npfQeb5EXRcpve/NLnhfb3qdXiKg0ZS831oVm2hK8zCoER4c1ccep5Qu86thnZ+DIV8o4ovXhfpPFdj19E4NhAKCG1UzP+gfv778aqtvO/jpcX3ZYH2LRl4XRQMdoOpunQR9L+eztwRbDvAIdlxKz8mUqcG88elQp0ZlgeTY9FBq8TUNHHqdjIX/3eJb+zsR1Mdd/NDp+L5tf4q8sL+VmJ6PGpRTXkVikN1rJTarRnaL83Zh8REyBmx5m4u+EIjeUbeIrEwnJ1w2KhXV/S1SdAyv0IKHVSUn2U7f6FzM2P4w3Hh7TIosxbxFjWOeaH51mMzRGw61NM+/Fn5/leYLGPwzP7NomX+JkWG987b1HnTepzHcvugZv6Yv4fEd2dTziA0vUmZgHUfC8wtaELavtKzpguPPy7FdPGk0DLbp0A35Eqi7puEIoPhN99rUjN1k+IpSilHrjXbkTj3Y3P+yiCuHnEtSn2ujvk5cmlJ0l+1DlZI7jxleNk8UukytMsa9IsrclFie75KkrWjYbwaLxUDUaKqruzN5PnnRNyN3Xn3zeFdM1FV5pz481Dx/5kgrwYT+dB4fp74mlhp2ylOOauOPU8rlGPvOpJw2ygBgyLrnbgz7fvmvNsWenk/x5Np2dePZe98Wt8jWO5rxysO5MQ/Tp6SkqNvW889MxfZmSNrnuJK/204Nj8jEAQO2pwRNMKwzry7kc5WwdXfyVZcxyyYhYHoX13HxGSa3L2Qez6t/5VJQKsWJxrYQqO+66g7y6YT2fVVO2InOtVZbQsQ/rHfF5q+1RS4q8aDUZUprP9xr9LE5n0ZWFFmSYZ0FP87YPaUS1adKPfxAz+YqviX7q6RuQBRjLLUos7dVSD6XMxHOeO/VTObmzMnIkyfPW987IZwrR5jiE9alnPWrannraeV35+86zI/upkCmOlx3W10Rh3q2jMyX6R7WwLsqYpy/nZFynSuu5rpXp/EJrMz199rW9Sup4kzs7fIv/TTtdPxKmnD2oTJ292mde1MnphHIAo0ztH5b7maXVXofPBQCAZyCsl0IN4gvJ6ImAzxdovUJROzseliV4mdy9RKwnFKQFBE5Ek7zfPJ8SQY7COpObigS65N/5u7FQaCzD/pLzaY3P86dnr0VaKSAGTkTiD/hyZkeD/HEJig+DcRnWudz0SPdh2uTRNF+Vx8mILKKxC+ut1/jG5R/EI7zSfL761sg1qrcHI3J7LKMtTaaURudKPj/aJB+WTORsOc8j247IsQ1azt6ZaufdgS86PxnbxjNXY92BW61f8zJnYhOiiLa2Xy81BI+w+bx28invQdePLflw5eTlRwePnBQDS7YG5UzCWkOhCMKm7561hge28jIztOgKtq5MjbvPyRB59uuVYx3DcjCMnpuwzufwtHnfEeri5RtyrPnI/ks8tBWMcDC8t4AnwpkhrNe17Qg/4hcnufMiHNZ++th17mlPbG5/Uyd1GzfWheY6eRkl2irtpPOTM1tFrzy1va2tT/jRoC70rxG5E8X6j7Wylk+97IK7PTh89Mtn731ybVeAzsmua9v9yVO+LdcfvkYvM+oBzJmxud07GlmZvYP0TPnbK8bJPH1T+y0CAKC2IKyXgsJ6fj7erb05mmKps+igcJF300P0QIT1fDp2gD2grLycGeNjSnSp+p04y7b51KBhDQ9Qmp82BGsXqhLW85kbui32Bcfm2Nuy4wU9ZTZhvYUfe5i3R8wkXeL2XDzKI6/89bwcas7WTWdGU+rIBdF7etp07l09DYxWx/iKmRguZjIRZjm7aL4s6KmlSJp8dkR3bmvDEFufMoZAVAGN/FF6Q7970Tl4a4c+srsL6+IoSPatUh0WbLWwYcK6aSq4VKgZ1YOyB0U7ERsifr4QP62UPZypIm1vfsHWbeWgslvFuHb16LHEPagy7yz53iHdqDAxdK2C7V3HzwUAgBcgrJeCwrqM3RINODGk4VDv1VRmkXcc6xnCuszH+qysS9WX+J/W9F34rlQlrJvzd/e/WYZyu7BOS7FmkfiLEr/CVzOsd/UVjrjV938LxuU6JVfSuVs/mlmZzGHdmGBo6esaSnYMH4yunBQXcNRfb8dVWJdrrt8Km6i3EcP683C4oMXXXWyMrvQoA7jVkvqwLn/GoYCu/3utw/rOGX7AqT/ZgwaAnR2Svxe53YMHbh27/PyMGIyuTuawrtSAZNHUS2I1TwCAGoKwXgrnsB6MTZtjulBCWLcc9S54I6xHptg2VjWsF2RodZL5RqpOWBfzVIamvGj/UFtjigWGE+9IqWG9rXHUHNPF5PWwLmwbO0aDdrTKr9WwTmuujm8xXeJzmH7nKZyUPeilsC5O07SYlJEwrvagWPPCaZXDOv0IYJonAEANQVgvhWNYF4NVlrPJgbAYs85QhC0lrFOZ/FThmPAyuAjr+gOAUIRG2BcP671Jvg2ZMT6Sx8AmrFMVWY1x17gN6zJSVGnMuhI+plYOKsNhxQms5ktPiGEwaiJxDOvyeoLPW9WLIVrEVg+HdcZ05RNRb7pLAW5rXeJVp2zypg7rXN2HK/y0BP1aiVOTk0+bj4gx65y+HrwU1sUYGOtJ/I7kZg+KkTNnvpjbLcasc+adpX+vosKwLsesl3zfKwCAzQJhvRSOYb2NrsKYnx2jMyn9DeHI1VT2MXuqlLAu0zA/wTTMz+msBA2pZ7O62q0ePOiIV3PJ/ha/zx/sGknz5fJnjGE9n7rQckg91fUezfFurPBcV5uw7uu9SdtzLx5pO1Th9lT7ajCNDUM8f2jpXNxx6c6LdvUEU+UC2z2fKiehOoZ1cYPGqadv8tNPfb4dA/s/edJDV8FbrbDe/KjnO7bEZ0dLursT2fXpSns0tXu/kjjr2rYdSYWpz1i7Ykn4CUXVJ/zqk3Vtu7tX5EVslE2ualinEwD4Ob5Wp7qWoPMg/b5xelg7J8G9gjUfOEJXR+k8qbS993kz6J9Y2ruD1/nWwJgygkjZg1UO6/I84LPXS7+jpxgDozsNVGrju1VcH8bNHhS3wj05eI32yxHWTo5d5q+ublinGznZtxYAgM2vZsJ6T5dy71LTFNnVLIs4cx4GQw+tlBLWfcFLdMWVAsZFu+EXeVxPd+lGi1ezC4bALX4WMMunY9qF1mnNrWhreyCWpiMWM7ntpRBh+quHpd4YSDKHdaXXXLvrSuNuSifmSX86qWNYFw9Nc6BplcK6OIbhU2EgcyLSmMWkH7NeNxE2jcz+ji7zV1JYp3qzmkzjmuQRlH4y7DK3ROjnU8FJCM4May4cW+KHKOr1N+WFgwonZQ9WOayfEUcLbCr1so/itGmLd4mrIk49aaxztQflzwuF06qGdTqi0A6VAQBqD8J6dcO6z390MDmvBNx8dnYy1nGBJ+KSwjoTaB9JzefkTZEUpYd1tkLhkduZnC6TG64K7+8eu0e3ZOIvzCb6W/x8G+3Dej6XuT3SYbiboIuwztR3mFaDKyOs+9ooVdjdwdRJYVhX4sgZ5Uw7FhZ3dBnudNP+6cRr+r5M57Du8+271areVonNIZra9T7PHKsU1n11yuHBd6Xfy3PbxYPRFba9ag47M8Evz2fYZKZ5rl0Zon36i0cN++gOO6sS1tnmXDysu/MOm8oK675tXXRJzbKinmHNJdH2tAt9bj0y167e0CrBK23vp+yoSdmDVQ7r/PcT/kY2iWuluyWGkTw7YnHdV9qJ7GCmTfzhtAd9R/Z+op1Qezr+pPnoGD+EWMWwLho2rtsIADWtBofBQAnsRrasJ9G5PlH6YIBNbfdnPFQZrvUOdTM8JpZz935vkodk+pMHNrcd9JPRSacrZgIAbG4I61CMF8O6z7frHA+mZy6XMxZ5E9Ju2aO7u1PN2xoYOzxKBzDJJw2b4Lhux0BD9BndW9eyj3wzEr8kfK37wQoAoCYhrG84tsNOVIaBLpXxZljn5w5e5sMPyhsdsamIMRU0nYk/xK8NghjdQdPzcJvnmm+pxFgUml509dVGmz9Al8tMrhw0DLoDAKhFCOsbDsK60Hlw9HlbV2ln2m1CFNbPTjx7r9twd6cax8P61Iueyw/55Ws2Ph7Wv3txOv7kcJN6zcTNrj7VPrFyeFPsPgCACiGsAwAAAAB4FMI6AAAAAIBHIawDAAAAAHgUwjoAAAAAgEchrAMAAAAAeBTCOgAAAACARyGsAwAAAAB4FML6ugleSueXl5cXxrv98pnV1fyo5/rSftxhZM3Up9q+fvrmAVwoGgAAAMqHsL5uYnflLYzW4pZDzQ/57ehv4naALgwZ7jqVHpJPl0zUOW7BCAAAABWopbC+v3FHvO/gzOdN9z8/lO7f/6+huu3ylXVRec96y6VU9rGLNFl3rTWxSVKj202uRLXCOtPMby/a//Wj3XXyCQAAAICS1EpY39L+fvA+j+n66VDyxIYOUR2TORdpsrFh6EX/nRftH65BB/6qc7fJVUKpvcJl7eh71n/n5cnosHwMAAAAUIqa6Vnfc7g+2bura88WHs+3vtIepux+vr5dvLwhuUquwYc9d172fzm3TT7e2DZcWPf5ho9NvOy/8/RNDIYBAACA0tXumPXfDg803f88eGG3fOwGT2/51IA/PJzK8NC4vLyUz06PhHXjWChN8mHogfaRdJaPc2GMZToSi+JpspjokM+rqMDdmP9oNPFALIbNcnb8VEC+bhynYZSOyUJSwxBLii9aj8qHRjE2o9xkh35V89nU4FHDuJxAeyxxL5tfEq+zArPj/S1KCbmqofOpHC+QTw+F/F3jWfo784Vuy/wt0RuzykKWcw8SUeNSHLjaZFoZU32aAreLPagxvdcg0DGqzIHXSXqkXdk7BepOPu2/8/L04Jh8DAAAAOBarYf135+SD12h9JbLZkVEU+VTUTXsibCenKTx6Dq6Mu7Cej6XM88iHTtAr7tKrsJEeOpl/82lvfKhCQ/ry7mckjkVhlWiMma5ZJ/YGpGPMxl1VRdmZ9W/2TZTIVYsPm/aGCY77n5gjqtNdhnWHfagxvReTTB621xnfPdcCsrXTepS7Xde9k882iUfAwAAALhVq2G9bn/g9udN90++ZtsfakWJjPn5RDQc9Pv8wdMJyn2ZMRGjWWCkcRrcYnqki5XxBU5RGS25qqzCJaem+fzs1W6+mIbeJD2TviRLCM5jQproBMfRlHxopgTxpWxyoJXVRODEGEXt7HibLMHLLM4mLnWHGijN1rdGp/Rbo6xqLhmp75Z/s4OKUGhsjv0l59N6LcOffhCPnKDqrm+NXKPlPBixibe2im6y27DOFNmDGpuw7h9IUSWlYrR/2Ty6L6X4THLJXlHCrO3NL2kkzE75GAAAAMCl2gzr2/3xgab7A/U9JV4OhtJbLjUYko+5yBRPbmqMFmmSlVFHivh84XEe5cwDVKzDJScScC51XltOC+VdU3B0DuvvrxQ9u5HCej4T79LWNcqDaNGrSXYm+FLviq0Rq5pPD/HULS5GmbnCV5v+FvNpic+zIqlBbSFMkNJ8YZ04qEpYL74HNTZhnaooO/6ufCjQTPQHOQY0GOn5sTfkQwAAAACXajCsb391OHKIj1bfI59wzyq9+Ydn9U86B2hN0bBePHQS52V96CKsy9gt0TwNYT10aiw1n1PHrEuGsC4zNwV0/d9iPpYDaQTbdGunKmHd9HbTHtRYh3Vx6GXNIvGTXdHnCOsAAABQhhoL63W/8385wJL6/gv75TMlsUpvwSuGPu9NFtblxeALbaKwbtqDGuuwLjbZml1Y33vhBcI6AAAAlKGWwvr2/btufd50f2DfudL71AWL9BYcecCeyyf75GNvhfU3XIxZLxbWxWCV5exUNCzGrDMWw2CKh3Uq8zgZoecr5BzWlRXg/OGxBzTERS3vYg9qrMO62DSrMe625Jj1w7g1EgAAAJSoZsL6/tfr+RmlA/WnfiefKQOlt8y1sDjb0t/QHbtNQyJ0wXotw7oYyL6cTUbFiZsWXFwNplhYF0M+8rNX+OmnPn8w3DeWWqCu9hLCuq/3Jq+T/L14pO1QSSf0Fiq6yTQ4ni4ZyV4LnIgmlEvQmMJ68T2osQnrwVE+bGZ5IRXrCdEZpk7qbvG9gKvBAAAAQOlqJaz74/yWpVZTZFezLOOM0luBbEJ3gqZzWLeeCaN2CbsN67534xRd9XT9ylxj4/DL/jsvw22N8gkD52EwYnMslBLWfQdi6cf8TWbGRbtSdJPFZWf08gv82u6msF5AvwfFFlnITWpHZOML8kkDy8TPtD05e+dlz6cD8iEAAACAawjrFYT1pXz23rjp5j5rGtZ9vtDZce1WQ5wprCsjYazvYOoc1n3+lsGbGbrhkdjeRKx9kF8NpaSwztR3jNzOmK8cX0ZYd9jkkLa2+Wx6tCNAg3Zsw7rFHnQT1nm18Hs8mY5ArMO6cgdTXLcRAAAASldjJ5hWyCYxe1tjw9CL/jsv27vU4FzD1nwP7uh7xs/xPWd3ji8AAABAMQjrpdiQYd3n25lqS9J1vpstB8PUkjXeg830s8bXGK0OAAAAZUJYL8UGDeuMSI3JlYP18gnvoAEzRdmNBS/DWu7BA3Od7BjJk3UOAAAAGwXCeik2blhnmh/1XH+012ro+vratGG9PtU+sXJ4X83/mgEAAAAVQFgHAAAAAPAohHUAAAAAAI9CWAcAAAAA8CiEdQAAAAAAj0JYBwAAAADwKIR1AAAAAACPQlgHAAAAAPAohHXwjlT7nZf92rRyUD5fgl3R57o5vOy/nJIvAAAAAGxACOtQqY7JnLh5EcklOuXzpfNIWJer0dnb5vMNH5soez5rgFZ1TdZNVuzNpb3swYcrVL3Pj70hXgQAAIDVUjthfWtd17u/v3X+0P3Pm+5/fmi6f/+/huq2y9c2r97x+Vx+oXp3ALVS5bBePHpubz346czF9I9X7z/+oFk+Z+2NRyfLDLKpNp5EX7Z/yB8cvMz/Pv3ZML1EZFTVpjMTz97rvrhVvlxlez99djr5zCYWr11Y33GOwvrEo13sgajbO08P14kXAQAAYLVsjLD+SqRr/5XXt1SSDJrfDVJM10+Hkic2e9iI8dvrV/F2/UVRal+1sL79g7eGHgzNsJguptUL67I3XR/WT0aLhXUxnbmc2iZLVBOtgF0f9tqFdbnVhrBezk8fAAAAUJINEda3+78cOHT/84OJY3Vlh+vmY3vHw/4W0Ze+dUvL0b3TLK9HdhUPfBve5gnruz9bpIz+w2cXrn387RqEdZmP9154wULqyXMX6SVCsVVEeW7Hyd3dK6d5eGVPNsonq8dbYV0sa+dcJ9/elepvLQAAABhtlGEw218d6mN5/dDtD17dI5+q0KujAzysvykfujLEoi8Lo4GO0XQ2T4M+lvLZ24Mtfvk6CXRcSszKl6nAvfHoUaVEZ4Ll2fRQaPA2DR15nI6F/N3jWfo7E9fFXP/R6Pi9bH6Jv7K8lJudjBqXUlxHYpHeaCU3qUZ3ivJ3Y/IRMQVuepiJvxOK3FC2ia9MJCRfNygW1v0tUXUOrNCDhFYnmqLR88C1yMQ3TfvZuz74YHXDeuPhMS0fi7HaWjRnTGGd7P6MF1M74OldfA5bm2bavuJxn786PLNDf7RZd2bvJ0+6JuSr/cnnXbGZXUrnvHnwvX4S3ducUmP7Jo59IedzOr7UWC9fFrY2pY5dfn5mSr79zFcrR947I18TRyaXU9vanpz8jr36ou3DTl/zox5e+EXXJ7rfE5of8QMSWZ+0XG01AAAAYLVspDHrr0ROHrz/edN07+/els+Uqe63r7SHg/c/Pxg/vEU+5Q4P68u5HOVsHV38lWXMcsmIiKYU1nPzGSW1LmcfzKp/51NRKsSKxbUSquy46w7y6ob1fFZN2YrMtVZZQsc+rHfE5622x1yyaFjXlB/WxZgWq8mu69qKVVg3dcCLsP5edOWMcUFnhiZEAcY6jn85J+J6CWF94lkPz9m66frDHbIAQ2XM04vWY6JbnMI6m4MS5fu/etqZVP6eetJAhQAAAGC9bLATTLeEechuuh8JhMs4OXT3rm/VAevng6OlD4JXg/hCMnoi4PMFWq9Q1M6Oh2UJXiZ3LxHrCQUpnQdORJO83zyfGqBXKawzualIoEv+nb8bC4XGMuwvOZ/W+Dx/evZapJW6SAMnIvEHfDmzo0H+uATFh8G4DOtcbnqk+zBt8miar8rjZEQW0diF9dZrfOPyD+IRXmk+X31r5BrV24MR4/ZszLC+Y2D/J2IYzLMjyvZoUXti5XCojT2z9Qitjy7+7jr3tCc2t7+pk85MbawLzVFKfnZkP72scB4Gw6fnreEBNp+twZl2HrufH22SJViZtomVYx1j23ZQOt820HCBr9tZedigXO4m8WT/NuXv5MrB+s7mL03zAQAAgHVQJKzro62c6nvka1JPl6lA07fvGgOwi5n4DtcbCzgMJX/72D4+3Hxgb2SnfMYt88ocuP7WKyXldQrr+fl4tzaCI5piqbPooHCRd9ND9ECE9Xw6doA9oKy8nBnjY0p0qfqdOMu2+dSgYZjIAUrz04Zg7UJVwno+c0O3xb7g2Bx7W3acR1ADm7Dewo89zNsjZpI2bs+qh/XqEKO3zdOLrj5t0IgI66eHb72mNbCLR79mxYqdlGmZy53D+nfPjjZro8cbhoqUJ4aakQG9/UO+O8XBTGcv34VFlwsAAABrZAOG9dffonNDywjrirrfbmkJ1dOKNQ4ZuzGLo7AuY7dEA04MaTjUezWVWeQdx3qGsC7zsT4r61L1Jf6nNX0XvitVCevm/N39b5ah3C6s01KsmRL/xgzrUy96Lj862HREvkpEWDcNlTGru9gYXelRx5zIqfSwbtxGWrSh/LYjc+/Fn581DZUxhHV5CEHL0v+NsA4AALDOamoYjFHgrb1sVuaji6Kcw3owNm2O6UIJYd1y1LvgjbAemWLbuCHDuug5tppKSaVWY9ZNXIT1YepoL5yqHNbr3jePm5cTwjoAAMBGsLFOMO06wOJ15SeYCnWh37O5JU+8Ih+74BjWxWCV5WxyICzGrDMUYUsJ61QmP1U4JrwMLsK6/gAgFKER9sXDem+Sb0NmjI/kMbAJ61RFVmPcC9RSWD+2xDN08mnzETFmnbPMx5WF9bY3+dDzlycv3NohxqwzFsNgENYBAAA8aqOE9a2/vVC9SzfW/XbLm427Jvi12/efK2UsjWNYb6OrMOZnx+hMSn9DOHI1lX3MniolrMs0zE8wDfNzOitBQ+rZrK52qwcPOuLVXLK/xe/zB7tG0ny5/BljWM+nLrQcUk91vUdzvBsrPNfVJqz7em/S9tyLR9oOFd2eVQ/r1VGVsP4+jaWZWNpLGXprYOxgdIUunmjOxzQG/eWZL+Z2q2lb4xjWxUD5l+0n+emnvrq2HSfm3rtOF3lEWAcAANgINkRYr8JNkeouRIzD4vl04MtyLt1YLKyLh1ZKCeu+4CW64koB46Ld8Is8rqe7dKPFq9kFQ+AWPwuY5dMx7ULrtOZWtLU9EEvTEYuZ3HZV0bDe/M1Fee9S8xQxnwVBPB7Wd6bosi2FU0E+Dj8xj2MpvM66jjGsyzWxmBDWAQAANoKN0bP+SqRr/5XSr7SoYwjrM+eDic4d7b+Tr7nnHNZ9/qODyXkl4Oazs5Oxjgs8EZcU1plA+0hqPidviqQoPayzFQqP3M7kdJnccFV4f/fYPbolE39hNtHf4ufbaB/W87nM7ZEOwz13XIR1pr7DtBpcLYd1fjHHuXblfklnE8/e++Ta3k+fWeXjxh1dunsnsamUsO6rO9M4+Oy0ODD4TpwLeyvMHiKsAwAAbAQb7ARTWGN2I1tWR9GwXqrVC+sAAAAAawVhHYpBWAcAAABYRwjrG47tsBOVYaBLZdYhrGuTHI9REvMQbYR1AAAA2MgQ1jcchPViENYBAABgM0FYBwAAAADwKIR1AAAAAACPQlgHAAAAAPAohHUAAAAAAI9CWAcAAAAA8CiEdQAAAAAAj0JYBwAAAADwKIT1dRO8lM4vLy8vjHf75TOrq/lRz/Wl/fXyEay6+lTb10/fPNAoHwIAAACUDmF93cTuylsYrcUth5ofdiVf9t9cOYiw7mjIcNep9JB8umSizpOocwAAAChfLYb1Lae6Dt3/vOn+58ELu+VT66HynvWWS6nsYxdpsu5aa2KTpEa3m1yJaoV1pvnRyTsv+79+tLtOPgEAAABQktoL6weO7b//uRfCeuU6JnMu0mRjw9CL/jsv2j9cgw78Veduk6uEUnuFy9rR96z/zsuT0WH5GAAAAKAUNRbW6/bsSrKY3ve7z7pqJawHH/bcedn/5dw2+Xhj23Bh3ecbPjbxsv/O0zcxGAYAAABKV1thve5C5ND9gfqe7b6essI6T2/51IA/PJzK8NC4vLyUz06PhHXjWChN8mHogfaRdJaPc2GMZToSi+JpspjokM+rqMDdmP9oNPFALIbNcnb8VEC+bhynYZSOyUJSwxBLii9aj8qHRjE2o9xkh35V89nU4FHDuJxAeyxxL5tfEq+zArPj/S1KCbmqofOpHC+QTw+F/F3jWfo784Vuy/wt0RuzykKWcw8SUeNSHLjaZFoZU32aAreLPagxvdcg0DGqzIHXSXqkXdk7BepOPu2/8/L04Jh8DAAAAOBaLYX1E+HG+58f/PL1Lezv8sP6ci6bFRFNlU9F1bAnwnpyksaj6+jKuAvr+VzOPIt07AC97iq5ChPhqZf9N5f2yocmPKwv53JK5lQYVonKmOWSfWJrRD7OZNRVXZidVf9m20yFWLH4vGljmOy4+4E5rjbZZVh32IMa03s1wehtc53x3XMpKF83qUu133nZP/Fol3wMAAAA4FbNhPXA6/XTnzd9+26dONWvgrDOc9l8IhoO+n3+4OkE5b7MmIjRLDDSOA1uMT3Sxcr4AqeojJZcVVbhklPTfH72ajdfTENvkp5JX5IlBOcxIU10guNoSj40U4L4UjY50Bpgq3pijKJ2drxNluBlFmcTl7pDDZRm61ujU/qtUVY1l4zUd8u/2UFFKDQ2x/6S82m9luFPP4hHTlD3c31r5Bot58GITby1VXST3YZ1psge1NiEdf9AiiopFaP9y+bRfSnFZ5JL9ooSZm1vfkkjYXbKxwAAAAAu1UhY3+6PDzTdj+x6Wz6uqGc9NRiSj7nIFE9uaowWaZKVUUeK+HzhcR7lzANUrMMlJxJwLnVeW04L5V1TcHQO6++vFD27kcJ6PhPv0tY1yoNo0atJdib4Uu+KrRGrmk8P8dQtLkaZucJXm/4W82mJz7MiqUFtIUyQ0nxhnTioSlgvvgc1NmGdqig7/q58KNBM9Ac5BjQY6fmxN+RDAAAAAJdqIqyLazXuP6fr2KwgrJvSm394Vv+kc4DWFA3rxUMncV7Why7CuozdEs3TENZDp8ZS8zl1zLpkCOsyc1NA1/8t5mM5kEawTbd2qhLWTW837UGNdVgXh17WLBI/2RV9jrAOAAAAZaiJsO6P8ws12k7fvuv2KthW6S14xdDnvcnCurwYfKFNFNZNe1BjHdbFJluzC+t7L7xAWAcAAIAyIKxXGNaDIw/Yc/lkn3zsrbD+hosx68XCuhisspydiobFmHXGYhhM8bBOZR4nI/R8hZzDurICnD889oCGuKjlXexBjXVYF5tmNcbdlhyzfhi3RgIAAIAS1cwJpiYVDIPJXAuLsy39Dd2x2zQkQhes1zKsi4Hsy9lkVJy4acHF1WCKhXUx5CM/e4WffurzB8N9Y6kF6movIaz7em/yOsnfi0faDtle4NCdoptMg+PpkpHstcCJaEK5BI0prBffgxqbsB4c5cNmlhdSsZ4QnWHqpO4W3wu4GgwAAACUDmG9FJTeCmQTuhM0ncO69UwYtUvYbVj3vRun6Kqn61fmGhuHX/bfeRlua5RPGDgPgxGbY6GUsO47EEs/5m8yMy7alaKbLC47o5df4Nd2N4X1Avo9KLbIQm5SOyIbX5BPGlgmfqbtydk7L3s+HZAPAQAAAFxDWC+FKeot5bP3xk0391nTsO7zhc6Oa7ca4kxhXRkJY30HU+ew7vO3DN7M0A2PxPYmYu2D/GooJYV1pr5j5HbGfOX4MsK6wyaHtLXNZ9OjHQEatGMb1i32oJuwzquF3+PJdARiHdaVO5jiuo0AAABQuloN6+WxScze1tgw9KL/zsv2LjU417A134M7+p7xc3zP2Z3jCwAAAFAMwnopNmRY9/l2ptqSdJ3vZsvBMLVkjfdgM/2s8TVGqwMAAECZENZLsUHDOiNSY3LlYL18wjtowExRdmPBy7CWe/DAXCc7RvJknQMAAMBGgbBeio0b1pnmRz3XH+21Grq+vjZtWK9PtU+sHN5X879mAAAAQAUQ1gEAAAAAPAphHQAAAADAoxDWAQAAAAA8CmEdAAAAAMCjENYBAAAAADwKYR0AAAAAwKMQ1gEAAAAAPAphHQAAAADAoxDWAQAAAAA8CmEdAAAAAMCjENYBAAAAADwKYR0AAAAAwKMQ1gEAAAAAPAphHQAAAADAoxDWAQAAAAA8CmEdAAAAAMCjENYBAAAAADwKYR0AAAAAwKMQ1gEAAAAAPAphHQAAAADAoxDWAQAAAAA8CmEdAAAAAMCjENYBAAAAADwKYR0AAAAAwKMQ1gEAAAAAPAphHQAAAADAoxDWAQAAAAA8CmEdAAAAAMCjENYBAAAAADwKYR0AAAAAwKMQ1gEAAAAAPAphHQAAAADAoxDWAQAAAAA8CmEdalYwOpVbXl7Ojnf75TMAm1zwUjrPGv0CGr3OgVj68fLyUna8C5UCAF6EsO5lHYlF9r26nPu3bvnEOoil+Soo7sbk02XpmOTheHkxsTrbQ9W1mOiQDx0pm7aUHpTPeF5ngtdgZXsBalnsrmj0uUSnfAZ8Q/J/gtyk6/88AADWkHVYTx0//7LXbup79JostkZea31uXgc+PX8jIF7fvJSwbvMV0nIplX28nB6SD1fHqoT11flKLDWsr3bPeu/4fC6/UNWNrYmwvgr1tvFV68Pu1LNek5W/uXrWe29kcvksDsYANhOEdS/zj9zj4TY7HpZPGInsu8phXUWpvbKY6B+eLbY9lSo1rK82qrHqrk9NhPVVqLeNb60+7Kj8DY9+PMEvJwCbivMwGAruax7Q9URYP94kHtUU8Zu13Tf0hgvr8ufm1cqaCOubA/KiBYR1cAlhHWDzKTesb2t5xgJ05z+OycdS4+/bebd3y8FG/ijw6IPzL8MtZ+r+8PD46RcnqUe88+NHu7dTWc0R/5tPwmdfnqICXadXGgJH5CvERVinlfwo5fOdqW992vlHPp+TZ5++8Qft/yuaCe+M3xqYaVFWpuPDGeO6nKlvWWmjt/M1YXNoPLNFvsS5mwnnj/DgWPHvqtZhXRlhaSWt5Dir5Epv1M2NfzHnU1F/eCQ1z6MAk8+mR8KW61wsrAfatTnwWYx2WP/qUWFY97dEb8xm+a/4XH5xNtHfoltXZZPrO0ams/klKpSbTZwNydcZy6orWB//0ej4PWUOS7nZyah+MRJbyu1MTlmZ3INE9KgoRKtho+RBsWKTH8u3L4tVMqywv6V/XFcpVmtrrDfdqmpCp8Z0ezA3e3PQuhXYoq2+G2NVl3igzCc3O37K2BCK7cFq1ps/PJjQ9mA+Oz3Wq2sFlo2Z0rAWcehhJv5OKKKuMG8JEd1s3H18RDsRayIKtBvqhD7j7GPL9mNiVsxGvyBXH3Y3jNVrjuPuKz/QMZrKKHvYtDl8WxYT3V3xDLVYPsAsFEtT4dxUNChLuRJoj2l7kC9odtzwYeecGy1rB5O69pZNj50ytANxCKSwCbis0U7Oqp90jaxDp5ZPB9jpodDgbXr1cToW8nePZ+nvTFy3RIf/dnhLYGvI6j+tNMh89vag9vkxbIsRjr4ANriye9Z/O9PKnj+3ZPwupsJnl3aIRxTWP+p73kWhVp1OnX64TRTg2va0PRcxXTe9OHawTb4uI7KbsP6o6bRpPs8O7pQlRM4+0rpiWpmu9gkljg+/0Wd4SUztrcNqXncxE0n9ip1ehXMXXX1/01eIi7C+vJil7w0dHkBkCR3bsB4cSBV+S+SnYyV9NzvzdyfMK8plJ9XBt7TJj7NatJUy8XdlCeuqM21UZzxT+MWcHTfUJIsghWXkfNznHifsO31BvtFAW2F/96RlpSR0I5I74vNW26NPCQOpwhIlduLSVudz5kyTT8cOyBJOe7B69fZuPCPfpzHOwWVYz2fVoKfIXGuVJdx8fCzbCauUIS0yUlifTYj0piMX5OrD7oaxessM68GoSJwG+fQl+Vnn25LPZNRZ5TOz8/JPOvIRpdygujXLJfu0Zu2i0bbGtaUrjBvuIqyHYnctdiGnD+tFWj6F9dy89p9K9sGs+jdrLFTIxX871BJyOXP9q3sHYR1gEyt/GIyxE5280vyUxe5wy4B8TGGdlTl1dqWhvnOrz7f1dzPHz7FnXry1TxbZ0viEBd9TfU/21bdR3m37XdOTdvYuNfH7ZFgvmFaUeTC0knx68V7rrW1sSb4zf/joBXsm3HJGlFBncrKPrQxf1tZ9j/iC/vhkj67Aqb6lPTtpTbZ27nj7KYXyZwd+RyVczER1IJpk/4Ov8hlL4n9nm1BFXyFuwjqTzyQGwkG/z9/QK+JU5kph0rYJ6/4ofWdmU5e62RzY42BXLMVnkkueEiWqQ34VZZNRvqY+X/2h7qviO08NAWrgyKVHuw/VszKtI/RFm5+KiBJmFqNKxBd8fvZapJXNgTXiE5H4Az6T2VG1TmQIyM8nY13KylxKZqZMlSPCXPlfk603aGcsKJvsCxzqTxpWWKw/qxTafbxAz5islC9aRJHWazy45h/EIyfowLq+NXKNijwYUbcnNs2LpC4cEofegcPdsZuZ5CV64JZa+fnZq7wlsLbEPwKsvSnzcbEHhUrrLUzBN3NN1pq/IRy5mp69oZ+fRWOm1TOFdS43PdJ9mFVMoHWUgvfjpNKYHD8+QZHz8g/GaA58TaJTVELLaPLXM/7cXCLK95G/ZZgWNB+Xu5AU/bCXxOp/Bk2xypf5OJuSzd4f7L4kP+u9VEDZlszY0YA434aVTnQFIlP8fWpLcCGWXpxNXOoONdAurG8V9aarNheNto3awVw8LGbiD4b7xtL3jEfdCtPe15yiT1wuPUKbrO5BXYp2avnyQ7qcm4oEuuTf+buxUGiMfzLlCTwu/ttRD9vYfwi8nQRar9DHp+AUINoLlgceALBRVTJmfd9S5/mXPe23lE7ltuDHPLb+Xj5k/5vwsN5z+qGSdTkW6FnYbT9+UTzcwxP/s9eV/m8h8I8sZz9vMnSK84hsnArC+h+fNe3TjZ85uMKOHD5oHRaPxEw622+9Kh5zF5t4V7qYz7W3+FHE06BhREsjrcnLd5tlN7/TTNZY0e9v12E9lxrU/zLcl+RfANMFodwq33D0/Z29oXY3EppJVc8jjSR5f3lmzPAjtj9Cl3NRshFtcj5jOEA6oP9GLFAY1t/hnbL51KBuFspM1DoR71rU915bKpZ7XBAhYHZE7ZlmjCssMlDmirFS+ihezI1RpbTwEGDenuDYHCuh9cv23uTvYKm0g4JCWcTa5lLntZVpoeMEpb252YNChfXmC47y85jz8xajfRQWjdkqrOczN/Q7WdRbdlz+d+D08RHNJpeMGNYiRDPJJ/vkY4pWrNX2itBJLGrAC2Gdjsuz4+rvVIQaoawTEdZFX69YYZZQ2dZXYeULPqrOjfbACLWDjHGwnDXT3tfQ/5lZ7ecUduRAs9XWxKnlizWXHe1UvfJToKtqN//t0Jrk5+O6Fkk7pGBnIawDbD4VnWA68DofdvK04bf0aOfDNtModgrralyW6h99qD0pkq71dOwgFVEisvMwGOuVlJxmQnM4/VCXwknTCnuXKfF75lTXol+BVl/JlmHdGFl8ftNXkcqqsNKLac0i8ZeNlm7sa+Roi5Qfgi1TSHexaFIY1i/xGVpTE7/4/nY+FNF9GZeD3m5ajHGF6Vu5cHSBfrn0tzU1dLKdro23yWdnk1dl914pHNubmz0oVFhvTCg2zTMzl8ukJ2Pdom9VQ4swNmZTXLNMb93/pn/SYiaGjw/tLH1nsGD62LqMVkU/7CUpO6wX+6yLXmT9tugrsIyVF+PR1THrkr62XTTa0JAyCmkpl5lOyB8ErFjubk78mJBLxeh3Gn9DOEaD/nQ/1jm1fMNnVt9mdFXt+r8dYx1a70qEdYDNp6KwLse9tFLHM51yauwjtwzr+5Y+0p60HiYupnUI6x/PvSIfKmovrIvuHNOTnFVhZR2sVT2sy95iHUPUs/zqog7dgu8zqTCs0wytGb81M9fMsbOA7su4HPR2U7q1Cutj+q53Tr9c+tuaLqxz/pbTI4lp9VRIw7hqFxzbm5s9KFRYb1KgPRq/qZ1caLyaPi3C2JhNcc0yvVEvsvqkxUwMHx8R1guGYJk+thsnrNMbbVQ3rMuLwRcy1babRlvfEb2W1NqBzQXmLXc3CY08kG/V5NMxbTlOLd9NWHf9346xDq13JcI6wOZTWVj3+W61/FF0SI81n3156uMZQ9i1Cus7jANL9n3EcvnToOibt7EmYX3iKL8IjPIrgSSHwRxvkuPyN1xY15+C5g+P0SBIXXmLtCGHEFgM8raKJgx9hViNca8uMTLeOCZEGUSRHhJfv1ZfXWLIaWFGFArDuk3AMhBDHeaMAzosFMk9btAmayOkGeV0UmWFZaVog+k5OQzmbowqherEMBNH/pb+JF9MYZ9wMU6RxdUeFCqsN7NAuxjHr/8Jghah/9UiFKFt1iKOVXrrpZpVj46cPj40tkEdz60Qw2C0OW+csG53cKipUlgXw42Ws1NROdycKfyoGrhotPUd4j9Ay8Nsq91NOvnPCfnFrDx/dClfcDElp5bvJqy7+W8HYR2ghlUa1kX4fv5G81InP21UO9mUo7D+UdutV7fTUPKtA4EWOmXzjyv7lEws+uZPnn6yr/6kuVdbsSZhXZ4ve/K0eoLpwJ7WZ7S22ih892G9SpduLE6MjORn7IlzBw1osPJyPvMFv4pi4EQ0oVwSRPffPX1bzMXDb+lOF+N9VJb/0VtEE04MDF3iJ5jKs8FWhX+Qsp52tmV9a3SSLp+gjfQUwTQ1+I4454zOtuTjpPPpIZtjCYsEIAIZP9MrTCcFWpDn1C7npsciYmX8wfBAouAEU1FMnnZWuqDo0mORpYWftdY9Ms3XjFNW2H+elrCknWDaylZDVMp5uUgxtDd/Lx5pk6fiFegYf5BJXdW2N3A4QmfIlX6xkSKRxdUeFCqsN18slZ2djHWLVs0W3BAeu8fmqG/VYhG5JB/N7A92jYjLC+rLUHrLpy608DOV+ScoEucz4acGKo3J8ePTKsZp5O+pJ5gqO3FhXLumjLtoVfTDXpLiYb1Y5YtDkeWFVKwnZLlrqhTWxXib/OyVVqo1fmJoaoGvlu6j6qLRst1xL6GtKpsPnZFp/BlHsgvr4nnWTlresd5kVsSh5bsJ627+23Ed1uUufDBWMPoLADaqisO6GKrOIqxFGQrr/CXD9OJ4k/6/xOFD5ust0qSbm4jIBZP+DqaVh3Wfb3uKrlRjml4c062t+7BO/7Fyq3HpRpXFJeq07ypxGRC9/AL/Mdgc1gvoLoYov2Ut6L4hOsRFS8yc80dpnK+CR19dBfiFF2SBAlbddXY/weu/JrWxsHrG+bB0IL419SyDgp3Ci9Plp9N8p2oLsr6uXH5at8niVuqFtJnY1FtpF990iiyMi+sYkkrrjSJjAcPFNy0WkV3gsUxttNYt3zD+wfnj4++yulil8RjebT9o0Q+7M/V/JDPTTIpXfof1tUSV/V6lsG7/305JjdZ6k/UXLbXeg4y6qi1fFNQ6k8/O3lCvuO/U8l2FdRf/7Zg+TZzVoq3+3ygsAwAbS+Vh3dfW8DHPtW3qFRtV5rD+4oNTT0w3PCJ0K6Jz8qZIclr7sM5sn3j9o+ddyk2ROgvW1n1YX5NLNzKhs7ob4nD6r97Q4E1lNGeeblREXxu6/+7N31WFdx5xE9bZt4PhvjxStcM6E4poNw1hC5hPGe8vE+weTqR1J6XlFzMpu9szCVZhnRH3eDKd3Gb8mjSWWcpn741bXHvEH9bfOIkpKXTyir2QkvUq9qDhy16gu/aocTxntcnG+zdJupmYb0DjWG8WXIR1xmEPKiqrN//R3jH92x9nZ28U3iiqe+yeEqRzdG8mvrb2YT2fy9w2XXjE+ePDiFsmFWknbsO6w4fdCe0LKwUzKV75prt0Ccp+r1ZYZ0vR/u/ilZaItdMPMyU1Wn9L79VUZlHZEovKN+9BlbaqftHnvZx/rK95LndTjG+qTlhnHP7bKfw02YR1vguHdRvOWJQBgI3EOaw7opNEdSNbNJYnmIJ3FCa/GkOXPXYYKgo1SZ81bdT8x2fzC9JlhXJJw414lQucIwEDwFqpKKw3vrLzVjMNYmk/bpXIEdY9rubSRmwqk7xE90tirfNwN51wpg3vBlAhrIPcxSysD4TFfxo+nz/4VvfIXepsl+dwAwCsunLDOl3FRU5dH6Xq5NNGCOseV3thvXA083zceD8nAA5hHZQbi1rJZ+LF2gYAQDVVFtZP/vH58ZYJ842EVAjrHldzacMfHkw+oF4xhp8lVjCUGYAgrANX3xGbnM3qB6w/zs7erORevwAAJavCmHUAAAAAAFgNCOsAAAAAAB6FsA4AAAAA4FEI6wAAAAAAHoWwDgAAAADgUQjrAAAAAAAehbAOAAAAAOBRCOsAAAAAAB6FsA4AAAAA4FEI6wAAAAAAHoWwDgAAAADgUQjrAAAAAAAehbAOAAAAAOBRCOsAAAAAAB6FsA4AAAAA4FEI6wAAAAAAHoWwDgAAAADgUQjrAAAAAAAehbAOAAAAAOBRCOsAAAAAAB6FsA4AAAAA4FEI6wAAAAAAHoWwDgAAAADgUQjrAAAAAAAehbAOAAAAAOBRlYb1/xdgg5BNFgAAAGDjKDmsy+ADsMHJBg0AAADgYW7Dugw4AJuObOIAAAAA3uMqrMtQA7BJyYYOAAAA4DEOYV1mGSu/AdiAZPO1Ihs9AAAAgGcUC+sywhjJyAOwwckGbSSbPgAAAIA32IZ1GV50ZMYB2ERk49aRHwAAAAAAD3Ab1ncCbFKyiSvkBwAAAADAA6zDuowtit/85jcy1wBsOoX96/JjAAAAALDenMP6/0NkrgHYdEQLl82dyI8BAAAAwHqzCOsysBCRYxiZawA2HdnEkdcBAADAe1yF9V//+tcy1wBsOqx5i3YuGz2RHwYAAACAdVUsrP/mN78RIQZhHTYxNazrB6/LDwMAAADAujKHdRlViEgwLMr86le/krkGYNNhzRud6wAAAOBNrsL6P/zDP8hcA7DpsOaNsA4AAADehLAOtQ5hHQAAADwLYR1qHcI6AAAAeJZtWFfPLv3Vr36FsA6bGGverJGL1o5zTAEAAMBTENah1iGsAwAAgGdVL6xfnlnW+89bJ+ULO3f23srJZwvcG5VlBKXkzGX5hGQ7hxnj+4lxTXI3tRURL5lnztg9L40aty13q1d54Z58yoJWAydv/Sc9Y9pYjXH++qoT7zU8w8nlFjyvOnnTUGG6TbOeoUDv4ltnv11y2+0K6GvbroxYGXrVavfp2G+F5dtlPZv2Iy9pX1EMwjoAAAB4VnXCuhryFCI2Kc9Q1DaEZhtiPrnCNGk9B8q4hpLG5TIi5atlygjrBYsWCbJwc2xDoZjDf/J/dFUkFczNtAkW2VqEYPv6FNFfF2RdVoJYFh1ROCZpywJiW9Q5F5+J0yLcbIWxPkUBxnBQRPOxPUziENYBAADAs6oS1nkeskzS8smCvGtDhsWC6G8/B2PutM5/+veWHtb5PAsiuPsnGdqcmVHLTbBerj6gm8M6bWORyqTyFiFYn1lt8iutoVgZ65rUsSlgWNviMyn6qoutKKhPXs//eWuU/tWe1W2UHYR1AAAA8KyqhfVinZeWObWQllx1QV+wmwO9RT5vu5STo5dPnuyl58sL60Vjq4qXtAjrWuUUFDAHcdXJy6Nshen5wvhbNHraZ1P9IZA8fqDnVfotddxqmwKGkF18JsVedbUVtCyt1SkP+a7UjvQst9QEYR0AAAA8qzrDYCh4OWQvx7CuT2/mJGczB4piSqqzD9ya0sO6eMn2VR2+zoXJWz9n81KcDnI4LayLSi6+GvpEbqavQ4v6NBwgmeu/gE0B2iLDoYXtTIq86nIrjEGcL5oqp2BDrA6H9BDWAQAAwLOqdYKp6FLVGIIgBSwr+kBmyFjmXGsZ1sVslShWLOGplORtyS4Hi0MCjU34s8yFxicpy6rp3HKjzGRYv8WjLVc8rBfLx8bFmdeW14xWezQfK8rKWy5IvEtdQ8uZGF+1XtUiLxm2Qr/O/G/5Fv52uZ7GRmUDYR0AAAA8q1phXUV5VFKClItUWhC1aT5qmhS5vJCuW9p9WLfIu3bPG+nTZ+Hm8FdNYb1gw2kOJVSLDOtk5rL4u9g2uo25jCGd05x1lVlsPkRfFTqGdSs+kyKvut4KLYvztyjrr/W488JOTQJhHQAAADys6mFdQfFXhlfnVGrumFfY5VpxSGDMc24Cd2VhXSGWbk6BPC8aw7q5S16hz5r6iGxF1oxcN6oH8yGBTrEjFnMd6gI6vaTf/OI5mzEVEFtq2sXFZ1LkVfdbwWfCN0FL7ZyyOVpqLwphHQAAADyrCmHdLhJpacwcEwtYZmX9uyzmUJjXjYlNR1uTUsO6EvvMrMrzpRhitGUWp4isFCt4i0Kbv6E8Ry/ZRny7FbZKwOqOK1wNrcZsFBaguRnqv/hMir3qeivkJvDy+k3jlcbWhC/C4ViIQ1gHAAAAz6pGz7pFkuZ4VBIR0KaAyia3iU5let5yDiK26lKm9XzovTK02YVyu+cLs7LAy5u7frXtFWzmKUKtfN66jG7DrVaANtNybTmbyrQ6cqCamblscZBjMxONVQGx2tqKFZ9JWa8WbAXfhNzMPePlGsXb782wwna1pIewDgAAAJ5VnWEwhb2qhh5Qh7Bu2QPNabnWZg4U6fTPi7yoi9Eiqauxr+SwrsxBnwWLrIyumG0YFTNUtreg6kyR1yKsyxorOFpQiFd1iy7cBIWowMJZ2a68wrqAsbaLz8RpES63QlaXuf3QDrWvIgOEdQAAAPCs6o1Zl0FNUZBubczc0sd6M0psbFY0B6u4b+7NZUT8VRneVUZY55REKFmvLU+f6lbbrjBHOVU3kyJVZx3W1bfYhlFTJdhumgi1BUdKtIbWxEbZRm0xQ1rh4nHcehHGLXWzFWI+BS8pLUc+LAZhHQAAADxr1U4wBdggENYBAADAsxDWodYhrAMAAIBnIaxDrUNYBwAAAM9CWIdah7AOAAAAnoWwDrUOYR0AAAA8C2Edah3COgAAAHiWbVhnRHz59a9/jbAOmxhr3qyRi9Yumz6RHwkAAACA9YOwDrUOYR0AAAA8C2Edah3COgAAAHiWq7D+v//3/5a5BmDTYc0bYR0AAAC8yRzWGRlVlHNMEdZhc1PDOs4uBQAAAK9BWIdah7AOAAAAnoWwDrUOYR0AAAA8yyKsMyKv6MP6//pf/+vv//7v/+7v/u6//bf/9td//dd/9Vd/9V//63/9L//lv/yfABsEa66s0bKmyxowa8asMbMmzRp2YViXHwMAAACA9eYQ1kVeZ2nmH/7hH/7n//yf/+N//I+//du//e///b//zd/8DUs8wv8F4Hmysf71X7Omyxowa8asMbMmzRo2a94iqTOi5cuPAQAAAMB6sw7rjD6sq53rLNz8/d//PUs5f/d3f8fiDsCGw5oua8CsGbPGbOpWZ5DUAQAAwFNchXXmV7/6lehfF5H9/9ZhuQfA42RjJSKmiz511rBFCxetHWEdAAAAPMU2rDOmvP7rX/9ajewitQNsOKL1ipgu+tQZ0c6R1AEAAMBrioV1RoQYRmQaRkR2kdoBNhzRetWYzsgm/pvfyEYPAAAA4BkOYZ1R+9cZmW4ANgXZrNGnDgAAAF7lHNYFGWoANh3ZxAEAAAC8x21YF/S97AAbGnrTAQAAwPtKC+uFWOIB2BBkkwUAAADYOCoN6wAAAAAAsEoQ1gEAAAAAPMnn+/8BPJVZNafu5GoAAAAASUVORK5CYII=)\n",
        "\n",
        "\n",
        "Now this error can be removed by using the try-except block\n",
        "\n",
        "\n",
        "```\n",
        "name_tuple=(\"Rohan\",\"Sumit\",\"Ram\",\"Aman\")\n",
        "print(name_tuple)\n",
        "try:\n",
        "    name_tuple[1]=\"Pratham\"\n",
        "    print(name_tuple)\n",
        "except Exception as te:\n",
        "    print(\"Tuples do not support updation\")\n",
        "```\n",
        "### **Output**\n",
        "![except.png](data:image/png;base64,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)\n"
      ],
      "metadata": {
        "id": "t2fAClYhE7-x"
      }
    },
    {
      "cell_type": "markdown",
      "source": [
        "### **Question 5.**\n",
        "Create a frozenset named frozen_set_1 containing the elements: 'A', 'B', 'C' and 'D' and combine it using union with a frozenset named frozen_set_2 containing elements 'A', 2, 'C' and 4. The final combined frozenset must be named frozenset_union. Now find the common elements in frozen_set_1 and frozen_set_2 and store the result in a variable named frozenset_common. Lastly, in a new forzenset named forzenset_difference store the elements of frozen_set_1 which are not in frozen_set_2 and in a new frozenset named frozenset_distinct store the elements which are unique to frozen_set_1 and frozen_set_2.\n",
        "\n",
        "Final output: \n",
        "\n",
        "\n",
        "```\n",
        "frozen_set_1: frozenset({'C', 'A', 'B', 'D'})\n",
        "frozen_set_2: frozenset({2, 'A', 'C', 4})\n",
        "frozenset_union: frozenset({2, 'A', 4, 'C', 'B', 'D'})\n",
        "frozenset_common: frozenset({'C', 'A'})\n",
        "frozenset_difference: frozenset({'D', 'B'})\n",
        "frozenset_distinct: frozenset({2, 'B', 4, 'D'})\n",
        "```\n",
        "\n"
      ],
      "metadata": {
        "id": "k02JUbWwKkTy"
      }
    },
    {
      "cell_type": "code",
      "source": [
        "frozen_set_1=frozenset({\"C\",\"A\",\"B\",\"D\"})\n",
        "frozen_set_2=frozenset({2,\"A\",\"C\",4})\n",
        "frozenset_union=frozen_set_1.union(frozen_set_2)\n",
        "frozenset_common=frozen_set_1.intersection(frozen_set_2)\n",
        "frozenset_difference=frozen_set_1.difference(frozen_set_2)\n",
        "frozenset_distinct=(frozen_set_1-frozen_set_2).union(frozen_set_2-frozen_set_1)\n",
        "print(f\"frozen_set_1 : {frozen_set_1}\")\n",
        "print(f\"frozen_set_2 : {frozen_set_2}\")\n",
        "print(f\"frozenset_union : {frozenset_union}\")\n",
        "print(f\"frozenset_common : {frozenset_common}\")\n",
        "print(f\"frozenset_difference : {frozenset_difference}\")\n",
        "print(f\"frozenset_distinct : {frozenset_distinct}\")"
      ],
      "metadata": {
        "colab": {
          "base_uri": "https://localhost:8080/"
        },
        "id": "NNbCwawFK4nj",
        "outputId": "3f192b9b-0d8c-40e7-9073-a725f09a1542"
      },
      "execution_count": null,
      "outputs": [
        {
          "output_type": "stream",
          "name": "stdout",
          "text": [
            "frozen_set_1 : frozenset({'C', 'D', 'A', 'B'})\n",
            "frozen_set_2 : frozenset({'C', 2, 4, 'A'})\n",
            "frozenset_union : frozenset({'C', 2, 4, 'A', 'B', 'D'})\n",
            "frozenset_common : frozenset({'C', 'A'})\n",
            "frozenset_difference : frozenset({'D', 'B'})\n",
            "frozenset_distinct : frozenset({2, 4, 'D', 'B'})\n"
          ]
        }
      ]
    },
    {
      "cell_type": "markdown",
      "source": [
        "### **Question 6.**\n",
        "Write a python program to remove items in a list containing the character 'a' or 'A'. Use lambda function for it. For this program pass in as argument the list:\n",
        "\n",
        "`list_a = [\"car\", \"place\", \"tree\", \"under\", \"grass\", \"price\"]` \n",
        "\n",
        "to the lambda function named **remove_items_containing_a_or_A** .\n",
        "\n",
        "Final output:\n",
        "\n",
        "`['tree', 'under', 'price']`\n"
      ],
      "metadata": {
        "id": "r7B4L5DBMhwG"
      }
    },
    {
      "cell_type": "code",
      "source": [
        "\"\"\"\n",
        "    Since, in python lambda functions are anonymous function, means that the function is without a name.\n",
        "\"\"\"\n",
        "\n",
        "list_a = [\"car\", \"place\", \"tree\", \"under\", \"grass\", \"price\"]\n",
        "print(f\"list_a = {list_a}\")\n",
        "remove_items_containing_a_or_A = list(filter(lambda i:(i.count('a')<1 and i.count('A')<1), list_a))\n",
        "print(f\"Required Output is = {remove_items_containing_a_or_A}\")"
      ],
      "metadata": {
        "colab": {
          "base_uri": "https://localhost:8080/"
        },
        "id": "Czh7xiMkNGEh",
        "outputId": "539902cb-ad7f-4eb3-ef59-6dfbe84d53c8"
      },
      "execution_count": null,
      "outputs": [
        {
          "output_type": "stream",
          "name": "stdout",
          "text": [
            "list_a = ['car', 'place', 'tree', 'under', 'grass', 'price']\n",
            "Required Output is = ['tree', 'under', 'price']\n"
          ]
        }
      ]
    },
    {
      "cell_type": "markdown",
      "source": [
        "### **Question 7.**\n",
        "Create a custom exception class which can handle **\"IndexError\"** as well as **\"ValueError\"** such that it can display its own custom error message when we use index which is not valid in a list. Take list as \n",
        "`list_a = [1, 2, 3, 4, 5]`\n",
        "\n",
        "Final output type 1:\n",
        "```\n",
        "Enter the index = 10\n",
        "The index 10 is incorrect and index should lie between -5 and 4.\n",
        "```\n",
        "\n",
        "Final output type 2:\n",
        "```\n",
        "Enter the index = abc\n",
        "Use an Integer value as the input.\n",
        "```"
      ],
      "metadata": {
        "id": "iIf-RGloPff3"
      }
    },
    {
      "cell_type": "code",
      "source": [
        "list_a = [1, 2, 3, 4, 5]\n",
        "try:\n",
        "    index_input=int(input(\"Enter the index = \"))\n",
        "    print(f\"Element found at index {index_input} is {list_a[index_input]}\")\n",
        "except IndexError as ie:\n",
        "    print(f\"The index {index_input} is incorrect and index should lie between -{len(list_a)} and {len(list_a)-1}\")\n",
        "except ValueError as ve:\n",
        "    print(\"Use an Integer value as the input.\")"
      ],
      "metadata": {
        "colab": {
          "base_uri": "https://localhost:8080/"
        },
        "id": "djVpTp3fQJ7S",
        "outputId": "1f75da84-8c39-4f9c-bb2d-351bb67f2f05"
      },
      "execution_count": null,
      "outputs": [
        {
          "output_type": "stream",
          "name": "stdout",
          "text": [
            "Enter the index = abc\n",
            "Use an Integer value as the input.\n"
          ]
        }
      ]
    }
  ]
}